{
  "nbformat": 4,
  "nbformat_minor": 0,
  "metadata": {
    "colab": {
      "provenance": [],
      "authorship_tag": "ABX9TyO2dQl4FRGy1uB7byiS4ewJ",
      "include_colab_link": true
    },
    "kernelspec": {
      "name": "python3",
      "display_name": "Python 3"
    },
    "language_info": {
      "name": "python"
    }
  },
  "cells": [
    {
      "cell_type": "markdown",
      "metadata": {
        "id": "view-in-github",
        "colab_type": "text"
      },
      "source": [
        "<a href=\"https://colab.research.google.com/github/Shamuskado22/imersao-ia-alura-gemini-II/blob/main/Imersao_ia_alura_gemini_II.ipynb\" target=\"_parent\"><img src=\"https://colab.research.google.com/assets/colab-badge.svg\" alt=\"Open In Colab\"/></a>"
      ]
    },
    {
      "cell_type": "code",
      "execution_count": null,
      "metadata": {
        "id": "GDZ3Zq51RpB5"
      },
      "outputs": [],
      "source": [
        "sum = 2 + 7"
      ]
    },
    {
      "cell_type": "code",
      "source": [
        "sum"
      ],
      "metadata": {
        "colab": {
          "base_uri": "https://localhost:8080/"
        },
        "id": "dyI-mMPmTGxb",
        "outputId": "9ba75cf0-4bd6-4156-dc96-ae01afd87656"
      },
      "execution_count": null,
      "outputs": [
        {
          "output_type": "execute_result",
          "data": {
            "text/plain": [
              "9"
            ]
          },
          "metadata": {},
          "execution_count": 2
        }
      ]
    },
    {
      "cell_type": "code",
      "source": [
        "sum - 5"
      ],
      "metadata": {
        "colab": {
          "base_uri": "https://localhost:8080/"
        },
        "id": "tGH7GvCvTIkN",
        "outputId": "251960cc-d034-40c6-907f-7bd0c6f374c8"
      },
      "execution_count": null,
      "outputs": [
        {
          "output_type": "execute_result",
          "data": {
            "text/plain": [
              "4"
            ]
          },
          "metadata": {},
          "execution_count": 3
        }
      ]
    },
    {
      "cell_type": "code",
      "source": [
        "sum * 5"
      ],
      "metadata": {
        "colab": {
          "base_uri": "https://localhost:8080/"
        },
        "id": "dFehyMl9Tg58",
        "outputId": "4c2e484c-b105-4196-ee75-53d774611832"
      },
      "execution_count": null,
      "outputs": [
        {
          "output_type": "execute_result",
          "data": {
            "text/plain": [
              "45"
            ]
          },
          "metadata": {},
          "execution_count": 4
        }
      ]
    },
    {
      "cell_type": "code",
      "source": [
        "sum / 3"
      ],
      "metadata": {
        "colab": {
          "base_uri": "https://localhost:8080/"
        },
        "id": "x4sdVLZBTryP",
        "outputId": "901226cc-85ca-49d4-8c54-a5628d86d882"
      },
      "execution_count": null,
      "outputs": [
        {
          "output_type": "execute_result",
          "data": {
            "text/plain": [
              "3.0"
            ]
          },
          "metadata": {},
          "execution_count": 5
        }
      ]
    },
    {
      "cell_type": "code",
      "source": [
        "sum = 5 + 5"
      ],
      "metadata": {
        "id": "YJh21mM7Tu_t"
      },
      "execution_count": null,
      "outputs": []
    },
    {
      "cell_type": "code",
      "source": [
        "print(sum)"
      ],
      "metadata": {
        "colab": {
          "base_uri": "https://localhost:8080/"
        },
        "id": "tiVkuZ4MU671",
        "outputId": "d81572b9-b9a8-4549-bb90-ab73cd0e97b9"
      },
      "execution_count": null,
      "outputs": [
        {
          "output_type": "stream",
          "name": "stdout",
          "text": [
            "10\n"
          ]
        }
      ]
    },
    {
      "cell_type": "code",
      "source": [
        "minus = 7 - 5"
      ],
      "metadata": {
        "id": "yb_PBPgUVFzs"
      },
      "execution_count": null,
      "outputs": []
    },
    {
      "cell_type": "code",
      "source": [
        "print(minus)"
      ],
      "metadata": {
        "colab": {
          "base_uri": "https://localhost:8080/"
        },
        "id": "nj9On30yVeT3",
        "outputId": "7f2bad0f-d21b-4bbb-875a-641a8cfb1bf5"
      },
      "execution_count": null,
      "outputs": [
        {
          "output_type": "stream",
          "name": "stdout",
          "text": [
            "2\n"
          ]
        }
      ]
    },
    {
      "cell_type": "code",
      "source": [
        "print(sum * minus)"
      ],
      "metadata": {
        "colab": {
          "base_uri": "https://localhost:8080/"
        },
        "id": "ZtmRHi4HVkq0",
        "outputId": "bb7dc8fc-fa6a-45f3-c66d-b590417add1e"
      },
      "execution_count": null,
      "outputs": [
        {
          "output_type": "stream",
          "name": "stdout",
          "text": [
            "20\n"
          ]
        }
      ]
    },
    {
      "cell_type": "code",
      "source": [
        "number1 = 29"
      ],
      "metadata": {
        "id": "VivMHkvOVnpU"
      },
      "execution_count": null,
      "outputs": []
    },
    {
      "cell_type": "code",
      "source": [
        "print('Olá Mundo')"
      ],
      "metadata": {
        "colab": {
          "base_uri": "https://localhost:8080/"
        },
        "id": "tgLtVEgibXvK",
        "outputId": "0293f73d-bab8-4f3d-83c4-f526749e4d3e"
      },
      "execution_count": null,
      "outputs": [
        {
          "output_type": "stream",
          "name": "stdout",
          "text": [
            "Olá Mundo\n"
          ]
        }
      ]
    },
    {
      "cell_type": "code",
      "source": [
        "multi = sum * minus"
      ],
      "metadata": {
        "id": "7OoNg908bb5f"
      },
      "execution_count": null,
      "outputs": []
    },
    {
      "cell_type": "code",
      "source": [
        "print(multi)"
      ],
      "metadata": {
        "colab": {
          "base_uri": "https://localhost:8080/"
        },
        "id": "q-xD5H9-bvXd",
        "outputId": "e2ee498b-ed27-46e3-fb4b-b914c52adee7"
      },
      "execution_count": null,
      "outputs": [
        {
          "output_type": "stream",
          "name": "stdout",
          "text": [
            "20\n"
          ]
        }
      ]
    },
    {
      "cell_type": "code",
      "source": [
        "print('O resultado da multiplicação é', multi)"
      ],
      "metadata": {
        "colab": {
          "base_uri": "https://localhost:8080/"
        },
        "id": "GLdd9BjtbyRM",
        "outputId": "9b2bb48c-1253-47bb-f0c2-d77eec8c3cad"
      },
      "execution_count": null,
      "outputs": [
        {
          "output_type": "stream",
          "name": "stdout",
          "text": [
            "O resultado da multiplicação é 20\n"
          ]
        }
      ]
    },
    {
      "cell_type": "code",
      "source": [
        "print(f'O resultado da multiplicação é {multi}, que é a multiplicação de {sum} e {minus}')"
      ],
      "metadata": {
        "colab": {
          "base_uri": "https://localhost:8080/"
        },
        "id": "fI98t3YlcSZM",
        "outputId": "43808055-5b30-4e80-f5dc-2b85ef24e670"
      },
      "execution_count": null,
      "outputs": [
        {
          "output_type": "stream",
          "name": "stdout",
          "text": [
            "O resultado da multiplicação é 20, que é a multiplicação de 10 e 2\n"
          ]
        }
      ]
    },
    {
      "cell_type": "code",
      "source": [
        "expo = 5 ** 2"
      ],
      "metadata": {
        "id": "mS1u2MEEcplm"
      },
      "execution_count": null,
      "outputs": []
    },
    {
      "cell_type": "code",
      "source": [
        "print(expo)"
      ],
      "metadata": {
        "colab": {
          "base_uri": "https://localhost:8080/"
        },
        "id": "brPajF1CdpA4",
        "outputId": "be1d6f10-7bff-4721-837f-f06ae608d7c5"
      },
      "execution_count": null,
      "outputs": [
        {
          "output_type": "stream",
          "name": "stdout",
          "text": [
            "25\n"
          ]
        }
      ]
    },
    {
      "cell_type": "code",
      "source": [
        "userName = input('Digite seu nome: ')"
      ],
      "metadata": {
        "colab": {
          "base_uri": "https://localhost:8080/"
        },
        "id": "hCgMo2kOdq2Y",
        "outputId": "200ad51e-36f7-49e2-c9d6-e32b7bfa040a"
      },
      "execution_count": null,
      "outputs": [
        {
          "name": "stdout",
          "output_type": "stream",
          "text": [
            "Digite seu nome: Samuel\n"
          ]
        }
      ]
    },
    {
      "cell_type": "code",
      "source": [
        "print(userName)"
      ],
      "metadata": {
        "colab": {
          "base_uri": "https://localhost:8080/"
        },
        "id": "MaFbsFDPeJoJ",
        "outputId": "63f77dca-8f16-41f9-b92d-01575caffacc"
      },
      "execution_count": null,
      "outputs": [
        {
          "output_type": "stream",
          "name": "stdout",
          "text": [
            "Samuel\n"
          ]
        }
      ]
    },
    {
      "cell_type": "code",
      "source": [
        "print(f'Olá {userName}, seja bem vindo(a)!')"
      ],
      "metadata": {
        "colab": {
          "base_uri": "https://localhost:8080/"
        },
        "id": "RnsEAzFRecL4",
        "outputId": "9cea9d5d-c2bc-4895-e407-479a700fef6a"
      },
      "execution_count": null,
      "outputs": [
        {
          "output_type": "stream",
          "name": "stdout",
          "text": [
            "Olá Samuel, seja bem vindo(a)!\n"
          ]
        }
      ]
    },
    {
      "cell_type": "code",
      "source": [
        "age = input('Digite sua idade:')"
      ],
      "metadata": {
        "colab": {
          "base_uri": "https://localhost:8080/"
        },
        "id": "CjQUt-4Ren-E",
        "outputId": "e73f347d-56c3-43c0-ea80-8b8496e90fc0"
      },
      "execution_count": null,
      "outputs": [
        {
          "name": "stdout",
          "output_type": "stream",
          "text": [
            "Digite sua idade:17\n"
          ]
        }
      ]
    },
    {
      "cell_type": "code",
      "source": [
        "age = int(age)\n",
        "\n",
        "if age > 18:\n",
        "  print('Você é maior de idade!')\n",
        "  print('Você pode acessar o sistema!')\n",
        "else:\n",
        "  print('Você é menor de idade!')\n",
        "  print('Você não pode acessar o sistema!')\n"
      ],
      "metadata": {
        "colab": {
          "base_uri": "https://localhost:8080/"
        },
        "id": "-uktF-1Kfe8_",
        "outputId": "50ff270b-c3d5-4acd-a142-5548f1a6d279"
      },
      "execution_count": null,
      "outputs": [
        {
          "output_type": "stream",
          "name": "stdout",
          "text": [
            "Você é menor de idade!\n",
            "Você não pode acessar o sistema!\n"
          ]
        }
      ]
    },
    {
      "cell_type": "code",
      "source": [
        "def verify_age(age):\n",
        "  if age >= 18:\n",
        "    print('Você é maior de idade!')\n",
        "    print('Você pode acessar o sistema!')\n",
        "  else:\n",
        "    print('Você é menor de idade!')\n",
        "    print('Você não pode acessar o sistema!')"
      ],
      "metadata": {
        "id": "oDRdeHQpgUVN"
      },
      "execution_count": null,
      "outputs": []
    },
    {
      "cell_type": "code",
      "source": [
        "verify_age(15)"
      ],
      "metadata": {
        "colab": {
          "base_uri": "https://localhost:8080/"
        },
        "id": "bR7BzMtprQN9",
        "outputId": "4baa0521-5f90-45f5-84ae-34e2fd6a3b6e"
      },
      "execution_count": null,
      "outputs": [
        {
          "output_type": "stream",
          "name": "stdout",
          "text": [
            "Você é menor de idade!\n",
            "Você não pode acessar o sistema!\n"
          ]
        }
      ]
    },
    {
      "cell_type": "code",
      "source": [
        "verify_age(18)"
      ],
      "metadata": {
        "colab": {
          "base_uri": "https://localhost:8080/"
        },
        "id": "jQwBBL-DrSn0",
        "outputId": "d44e9b7b-3b86-4c8c-e33b-5cdad6637244"
      },
      "execution_count": null,
      "outputs": [
        {
          "output_type": "stream",
          "name": "stdout",
          "text": [
            "Você é maior de idade!\n",
            "Você pode acessar o sistema!\n"
          ]
        }
      ]
    },
    {
      "cell_type": "code",
      "source": [
        "counter = 0\n",
        "\n",
        "while counter < 5:\n",
        "  print(f'Contagem: {counter}')\n",
        "  counter = counter + 1\n",
        "\n",
        "print('Fim da contagem')"
      ],
      "metadata": {
        "colab": {
          "base_uri": "https://localhost:8080/"
        },
        "id": "kzqFkvXgrVJE",
        "outputId": "a29e7cb8-81c7-4c70-b0ca-af3e4f2430b7"
      },
      "execution_count": null,
      "outputs": [
        {
          "output_type": "stream",
          "name": "stdout",
          "text": [
            "Contagem: 0\n",
            "Contagem: 1\n",
            "Contagem: 2\n",
            "Contagem: 3\n",
            "Contagem: 4\n",
            "Fim da contagem\n"
          ]
        }
      ]
    },
    {
      "cell_type": "code",
      "source": [
        "models = ['2.0 flash', '2.5 pro', '2.5 flash']"
      ],
      "metadata": {
        "id": "1zxVgmO3tPXJ"
      },
      "execution_count": null,
      "outputs": []
    },
    {
      "cell_type": "code",
      "source": [
        "models"
      ],
      "metadata": {
        "colab": {
          "base_uri": "https://localhost:8080/"
        },
        "id": "wab2WEhvunwg",
        "outputId": "d7977f18-1fb7-4de5-8211-bc3b79a79ae2"
      },
      "execution_count": null,
      "outputs": [
        {
          "output_type": "execute_result",
          "data": {
            "text/plain": [
              "['2.0 flash', '2.5 pro', '2.5 flash']"
            ]
          },
          "metadata": {},
          "execution_count": 39
        }
      ]
    },
    {
      "cell_type": "code",
      "source": [
        "for model in models:\n",
        "  print(model)"
      ],
      "metadata": {
        "colab": {
          "base_uri": "https://localhost:8080/"
        },
        "id": "ptmwalksuph2",
        "outputId": "fe0696ac-13a0-4121-b363-cfcb8c452dcf"
      },
      "execution_count": null,
      "outputs": [
        {
          "output_type": "stream",
          "name": "stdout",
          "text": [
            "2.0 flash\n",
            "2.5 pro\n",
            "2.5 flash\n"
          ]
        }
      ]
    }
  ]
}